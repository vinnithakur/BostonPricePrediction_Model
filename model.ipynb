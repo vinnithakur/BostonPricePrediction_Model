{
 "cells": [
  {
   "cell_type": "code",
   "execution_count": 2,
   "id": "7ce6bc33",
   "metadata": {},
   "outputs": [
    {
     "ename": "SyntaxError",
     "evalue": "unterminated string literal (detected at line 17) (2329975112.py, line 17)",
     "output_type": "error",
     "traceback": [
      "\u001b[1;36m  Cell \u001b[1;32mIn[2], line 17\u001b[1;36m\u001b[0m\n\u001b[1;33m    format = '%(asctime)s- %(levelname)s - %(message)s,Force ='True')\u001b[0m\n\u001b[1;37m                                                                   ^\u001b[0m\n\u001b[1;31mSyntaxError\u001b[0m\u001b[1;31m:\u001b[0m unterminated string literal (detected at line 17)\n"
     ]
    }
   ],
   "source": [
    "#Import Data Manipulation Libraries\n",
    "\n",
    "import pandas as pd\n",
    "import numpy as np\n",
    "\n",
    "#Importing Data Visualization Libraries\n",
    "import seaborn as sns\n",
    "import matplotlib.pyplot as plt\n",
    "\n",
    "#Import Filter Working Libraries\n",
    "import warnings\n",
    "warnings.filterwarnings('ignore')\n",
    "#Import logging\n",
    "logging.basicConfig(level=logging.info,\n",
    "                    filemode = 'w',\n",
    "                    filename = 'model.log',\n",
    "                    format = '%(asctime)s- %(levelname)s - %(message)s,Force ='True')\n",
    "                \n",
    "# Import Filterwarning Library\n",
    "import warnings\n",
    "warnings.filterwarnings('ignore')\n"
   ]
  },
  {
   "cell_type": "code",
   "execution_count": null,
   "id": "321a3c7d",
   "metadata": {},
   "outputs": [],
   "source": [
    "url = ''"
   ]
  }
 ],
 "metadata": {
  "kernelspec": {
   "display_name": "base",
   "language": "python",
   "name": "python3"
  },
  "language_info": {
   "codemirror_mode": {
    "name": "ipython",
    "version": 3
   },
   "file_extension": ".py",
   "mimetype": "text/x-python",
   "name": "python",
   "nbconvert_exporter": "python",
   "pygments_lexer": "ipython3",
   "version": "3.12.7"
  }
 },
 "nbformat": 4,
 "nbformat_minor": 5
}
